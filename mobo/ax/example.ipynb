{
 "cells": [
  {
   "cell_type": "code",
   "execution_count": null,
   "metadata": {},
   "outputs": [],
   "source": [
    "import numpy as np\n",
    "import torch\n",
    "from ax.plot.render import plot_config_to_html\n",
    "from ax.service.ax_client import AxClient, ObjectiveProperties\n",
    "from ax.utils.measurement.synthetic_functions import hartmann6\n",
    "from ax.utils.notebook.plotting import init_notebook_plotting, render"
   ]
  },
  {
   "cell_type": "code",
   "execution_count": null,
   "metadata": {},
   "outputs": [],
   "source": [
    "ax_client = AxClient()"
   ]
  },
  {
   "cell_type": "code",
   "execution_count": null,
   "metadata": {},
   "outputs": [],
   "source": [
    "# Function that we're trying to optimise\n",
    "def evaluation_function(parameters):\n",
    "    x = np.array([parameters.get(f\"x{i}\") for i in range(6)])\n",
    "    return {\n",
    "        \"hartmann6\": hartmann6(x),\n",
    "        \"l2norm\": np.sqrt((x**2).sum()),\n",
    "    }\n"
   ]
  },
  {
   "cell_type": "code",
   "execution_count": null,
   "metadata": {},
   "outputs": [],
   "source": [
    "# Objectives\n",
    "objectives = {\n",
    "    \"hartmann6\": ObjectiveProperties(minimize=True),\n",
    "}"
   ]
  },
  {
   "cell_type": "code",
   "execution_count": null,
   "metadata": {},
   "outputs": [],
   "source": [
    "# Parameters\n",
    "parameters = []\n",
    "for i in range(6):\n",
    "    parameters.append(\n",
    "        {\n",
    "            \"name\": f\"x{i}\",\n",
    "            \"type\": \"range\",\n",
    "            \"bounds\": [0.0, 1.0],\n",
    "        }\n",
    "    )"
   ]
  },
  {
   "cell_type": "code",
   "execution_count": null,
   "metadata": {},
   "outputs": [],
   "source": [
    "# Constraints\n",
    "parameter_constraints = [\n",
    "    \"x1 + x2 <= 2.0\",\n",
    "]\n",
    "outcome_constraints = [\n",
    "    \"l2norm <= 1.25\",\n",
    "]"
   ]
  },
  {
   "cell_type": "code",
   "execution_count": null,
   "metadata": {},
   "outputs": [],
   "source": [
    "# Define experiment\n",
    "ax_client.create_experiment(\n",
    "    name=\"hartmann_test_experiment\",\n",
    "    parameters=parameters,\n",
    "    objectives=objectives,\n",
    "    parameter_constraints=parameter_constraints,\n",
    "    outcome_constraints=outcome_constraints,\n",
    ")"
   ]
  },
  {
   "cell_type": "code",
   "execution_count": null,
   "metadata": {},
   "outputs": [],
   "source": [
    "# Run experiment\n",
    "for i in range(25):\n",
    "    parameters, trial_index = ax_client.get_next_trial()\n",
    "    ax_client.complete_trial(\n",
    "        trial_index=trial_index,\n",
    "        raw_data=evaluation_function(parameters),\n",
    "    )"
   ]
  },
  {
   "cell_type": "code",
   "execution_count": null,
   "metadata": {},
   "outputs": [],
   "source": [
    "init_notebook_plotting()\n",
    "render(\n",
    "    ax_client.get_optimization_trace(\n",
    "        objective_optimum=hartmann6.fmin,\n",
    "    ),\n",
    ")"
   ]
  }
 ],
 "metadata": {
  "kernelspec": {
   "display_name": "venv",
   "language": "python",
   "name": "python3"
  },
  "language_info": {
   "codemirror_mode": {
    "name": "ipython",
    "version": 3
   },
   "file_extension": ".py",
   "mimetype": "text/x-python",
   "name": "python",
   "nbconvert_exporter": "python",
   "pygments_lexer": "ipython3",
   "version": "3.7.5"
  },
  "orig_nbformat": 4,
  "vscode": {
   "interpreter": {
    "hash": "b3ee19b2e9503dc1c8436d64642cc650ee92a5f00458dcde7a37a1162c6a067e"
   }
  }
 },
 "nbformat": 4,
 "nbformat_minor": 2
}
