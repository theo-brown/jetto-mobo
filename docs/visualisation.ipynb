{
 "cells": [
  {
   "cell_type": "code",
   "execution_count": 13,
   "metadata": {},
   "outputs": [
    {
     "name": "stderr",
     "output_type": "stream",
     "text": [
      "\u001b[33m11:36:20 [WARNING] Python module 'omas' not found. Submodule 'jams' needs it @jams.py:14\u001b[0m\n"
     ]
    },
    {
     "ename": "TypeError",
     "evalue": "sum_of_gaussians_fixed_log_means() missing 2 required positional arguments: 'variances' and 'amplitudes'",
     "output_type": "error",
     "traceback": [
      "\u001b[0;31m---------------------------------------------------------------------------\u001b[0m",
      "\u001b[0;31mTypeError\u001b[0m                                 Traceback (most recent call last)",
      "Cell \u001b[0;32mIn[13], line 20\u001b[0m\n\u001b[1;32m     18\u001b[0m     q \u001b[39m=\u001b[39m hdf5[\u001b[39m\"\u001b[39m\u001b[39m/initialisation/converged_q\u001b[39m\u001b[39m\"\u001b[39m][i] \n\u001b[1;32m     19\u001b[0m     xrho \u001b[39m=\u001b[39m np\u001b[39m.\u001b[39mlinspace(\u001b[39m0\u001b[39m, \u001b[39m1\u001b[39m, \u001b[39mlen\u001b[39m(q))\n\u001b[0;32m---> 20\u001b[0m     target_ecrh \u001b[39m=\u001b[39m ecrh\u001b[39m.\u001b[39;49msum_of_gaussians_fixed_log_means(xrho, hdf5[\u001b[39m\"\u001b[39;49m\u001b[39m/initialisation/ecrh_parameters\u001b[39;49m\u001b[39m\"\u001b[39;49m][i])\n\u001b[1;32m     22\u001b[0m     figure\u001b[39m.\u001b[39madd_traces(\n\u001b[1;32m     23\u001b[0m         [\n\u001b[1;32m     24\u001b[0m             go\u001b[39m.\u001b[39mScatter(\n\u001b[0;32m   (...)\u001b[0m\n\u001b[1;32m     49\u001b[0m         cols \u001b[39m=\u001b[39m [\u001b[39m1\u001b[39m, \u001b[39m2\u001b[39m]\n\u001b[1;32m     50\u001b[0m     )\n\u001b[1;32m     52\u001b[0m \u001b[39m# for i in range(hdf5[\"/\"].attrs[\"n_completed_bayesopt_steps\"]):\u001b[39;00m\n\u001b[1;32m     53\u001b[0m \u001b[39m#     for j in range(hdf5[\"/\"].attrs[\"batch_size\"]):\u001b[39;00m\n\u001b[1;32m     54\u001b[0m \u001b[39m#         ecrh = hdf5[f\"bayesopt/{i+1}/converged_ecrh\"][j]\u001b[39;00m\n\u001b[0;32m   (...)\u001b[0m\n\u001b[1;32m     75\u001b[0m \u001b[39m#             cols = [1, 2]\u001b[39;00m\n\u001b[1;32m     76\u001b[0m \u001b[39m#         )\u001b[39;00m\n",
      "\u001b[0;31mTypeError\u001b[0m: sum_of_gaussians_fixed_log_means() missing 2 required positional arguments: 'variances' and 'amplitudes'"
     ]
    }
   ],
   "source": [
    "import h5py\n",
    "import plotly.graph_objects as go\n",
    "import os\n",
    "from jetto_mobo import genetic_algorithm\n",
    "from jetto_mobo import ecrh\n",
    "import numpy as np\n",
    "from jetto_mobo.utils import rgba_colormap\n",
    "from plotly.subplots import make_subplots\n",
    "\n",
    "figure = make_subplots(1, 2,\n",
    "                       shared_xaxes=True)\n",
    "\n",
    "ecrh_function = lambda x, p: ecrh.sum_of_gaussians_fixed_log_means(\n",
    "        x, xmax=p[0], variances=p[1 : n_gaussians + 1], amplitudes=p[n_gaussians + 1 :]\n",
    "    )\n",
    "\n",
    "with h5py.File(\"../data/sobo/sog_flm.hdf5\") as hdf5:\n",
    "    for i in range(hdf5[\"/\"].attrs[\"batch_size\"]):\n",
    "        if np.isnan(hdf5[\"/initialisation/value\"][i][0]):\n",
    "            continue\n",
    "        converged_ecrh = hdf5[\"/initialisation/converged_ecrh\"][i]\n",
    "        q = hdf5[\"/initialisation/converged_q\"][i] \n",
    "        xrho = np.linspace(0, 1, len(q))\n",
    "        target_ecrh = ecrh.sum_of_gaussians_fixed_log_means(xrho, hdf5[\"/initialisation/ecrh_parameters\"][i])\n",
    "        \n",
    "        figure.add_traces(\n",
    "            [\n",
    "                go.Scatter(\n",
    "                    x=xrho,\n",
    "                    y=converged_ecrh,\n",
    "                    legendgroup=i,\n",
    "                    name=i,\n",
    "                    line_color=rgba_colormap(i, hdf5[\"/\"].attrs[\"batch_size\"]),\n",
    "                ),\n",
    "                go.Scatter(\n",
    "                    x=xrho,\n",
    "                    y=target_ecrh,\n",
    "                    legendgroup=i,\n",
    "                    name=i,\n",
    "                    mode='lines',\n",
    "                    line_dash='dash',\n",
    "                    line_color=rgba_colormap(i, hdf5[\"/\"].attrs[\"batch_size\"]),\n",
    "                ),\n",
    "                go.Scatter(\n",
    "                    x=xrho,\n",
    "                    y=q,\n",
    "                    showlegend=False,\n",
    "                    legendgroup=i,\n",
    "                    line_color=rgba_colormap(i, hdf5[\"/\"].attrs[\"batch_size\"]),\n",
    "                ),\n",
    "            ],\n",
    "            rows = [1, 1],\n",
    "            cols = [1, 2]\n",
    "        )\n",
    "   \n",
    "    # for i in range(hdf5[\"/\"].attrs[\"n_completed_bayesopt_steps\"]):\n",
    "    #     for j in range(hdf5[\"/\"].attrs[\"batch_size\"]):\n",
    "    #         ecrh = hdf5[f\"bayesopt/{i+1}/converged_ecrh\"][j]\n",
    "    #         q = hdf5[f\"bayesopt/{i+1}/converged_q\"][j] \n",
    "    #         xrho = np.linspace(0, 1, len(q))\n",
    "            \n",
    "    #         figure.add_traces(\n",
    "    #             [\n",
    "    #                 go.Scatter(\n",
    "    #                     x=xrho,\n",
    "    #                     y=ecrh,\n",
    "    #                     legendgroup=j,\n",
    "    #                     showlegend=True if j == 0 else False,\n",
    "    #                     name=j,\n",
    "    #                 ),\n",
    "    #                 go.Scatter(\n",
    "    #                     x=xrho,\n",
    "    #                     y=q,\n",
    "    #                     showlegend=False,\n",
    "    #                     legendgroup=j,\n",
    "    #                 ),\n",
    "    #             ],\n",
    "    #             rows = [1, 1],\n",
    "    #             cols = [1, 2]\n",
    "    #         )\n",
    "    \n",
    "figure.update_layout(template=\"simple_white\")\n",
    "figure.update_xaxes(title_text=\"Normalised radius\")\n",
    "figure.update_yaxes(title_text=\"ECRH power density\", row=1, col=1)\n",
    "figure.update_yaxes(title_text=\"Safety factor\", row=1, col=2)\n",
    "figure.show()\n"
   ]
  }
 ],
 "metadata": {
  "kernelspec": {
   "display_name": "jetto-mobo",
   "language": "python",
   "name": "python3"
  },
  "language_info": {
   "codemirror_mode": {
    "name": "ipython",
    "version": 3
   },
   "file_extension": ".py",
   "mimetype": "text/x-python",
   "name": "python",
   "nbconvert_exporter": "python",
   "pygments_lexer": "ipython3",
   "version": "3.8.16"
  },
  "orig_nbformat": 4,
  "vscode": {
   "interpreter": {
    "hash": "a3b19e8fc6e6f4153e474d686b7174f4f2f0be92ea1177b58b47f8569912660b"
   }
  }
 },
 "nbformat": 4,
 "nbformat_minor": 2
}
