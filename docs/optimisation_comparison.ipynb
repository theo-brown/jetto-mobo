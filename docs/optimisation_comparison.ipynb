{
 "cells": [
  {
   "cell_type": "code",
   "execution_count": 19,
   "metadata": {},
   "outputs": [
    {
     "data": {
      "application/vnd.plotly.v1+json": {
       "config": {
        "plotlyServerURL": "https://plot.ly"
       },
       "data": [
        {
         "legendgroup": "Marsden's piecewise linear",
         "line": {
          "color": "rgba(229, 134, 6, 0.3)"
         },
         "mode": "lines",
         "name": "Marsden's piecewise linear: &mu; + 2&#963;",
         "showlegend": false,
         "type": "scatter",
         "x": [
          0,
          1,
          2,
          3,
          4,
          5,
          6,
          7,
          8,
          9,
          10,
          11,
          12,
          13,
          14,
          15
         ],
         "y": [
          0.9052964746209821,
          0.9203379530700855,
          0.9236938575178651,
          0.9282523268145555,
          0.9266728411035652,
          0.9228779511344946,
          0.9226790625690909,
          0.9242021364920168,
          0.9272918995890785,
          0.9277318552211096,
          0.9278082071273838,
          0.9266276443826069,
          0.9272258158480862,
          0.9268122216466249,
          0.9268122216466249,
          0.9268122216466249
         ]
        },
        {
         "fill": "tonexty",
         "fillcolor": "rgba(229, 134, 6, 0.3)",
         "legendgroup": "Marsden's piecewise linear",
         "line": {
          "color": "rgba(229, 134, 6, 0.3)"
         },
         "mode": "lines",
         "name": "Marsden's piecewise linear: &mu; - 2&#963",
         "showlegend": false,
         "type": "scatter",
         "x": [
          0,
          1,
          2,
          3,
          4,
          5,
          6,
          7,
          8,
          9,
          10,
          11,
          12,
          13,
          14,
          15
         ],
         "y": [
          0.8608810754412716,
          0.8775074191093086,
          0.8856138032323496,
          0.8868731445860882,
          0.8952237381071919,
          0.9075316556445502,
          0.9102577256473287,
          0.910860519216657,
          0.9104791600328904,
          0.911298044885622,
          0.9107451402318599,
          0.9129422517966852,
          0.914700401750316,
          0.9155104615182782,
          0.9155104615182782,
          0.9155104615182782
         ]
        },
        {
         "legendgroup": "Marsden's piecewise linear",
         "line": {
          "color": "rgb(229, 134, 6)"
         },
         "mode": "lines",
         "name": "Marsden's piecewise linear: &mu;",
         "showlegend": false,
         "type": "scatter",
         "x": [
          0,
          1,
          2,
          3,
          4,
          5,
          6,
          7,
          8,
          9,
          10,
          11,
          12,
          13,
          14,
          15
         ],
         "y": [
          0.8830887750311268,
          0.898922686089697,
          0.9046538303751074,
          0.9075627357003219,
          0.9109482896053785,
          0.9152048033895224,
          0.9164683941082098,
          0.9175313278543369,
          0.9188855298109845,
          0.9195149500533658,
          0.9192766736796218,
          0.9197849480896461,
          0.9209631087992011,
          0.9211613415824516,
          0.9211613415824516,
          0.9211613415824516
         ]
        },
        {
         "legendgroup": "Marsden's piecewise linear",
         "line": {
          "color": "rgb(229, 134, 6)"
         },
         "mode": "lines",
         "name": "Marsden's piecewise linear",
         "showlegend": true,
         "type": "scatter",
         "x": [
          0
         ],
         "y": [
          0.8830887750311268
         ]
        },
        {
         "legendgroup": "Piecewise linear",
         "line": {
          "color": "rgba(93, 105, 177, 0.3)"
         },
         "mode": "lines",
         "name": "Piecewise linear: &mu; + 2&#963;",
         "showlegend": false,
         "type": "scatter",
         "x": [
          0,
          1,
          2,
          3,
          4,
          5,
          6,
          7,
          8
         ],
         "y": [
          0.8717314766948869,
          0.8722154156096155,
          0.8801190189833235,
          0.8817213703249157,
          0.882854643349666,
          0.882854643349666,
          0.8857358879782996,
          0.885733062601407,
          0.8837194286094324
         ]
        },
        {
         "fill": "tonexty",
         "fillcolor": "rgba(93, 105, 177, 0.3)",
         "legendgroup": "Piecewise linear",
         "line": {
          "color": "rgba(93, 105, 177, 0.3)"
         },
         "mode": "lines",
         "name": "Piecewise linear: &mu; - 2&#963",
         "showlegend": false,
         "type": "scatter",
         "x": [
          0,
          1,
          2,
          3,
          4,
          5,
          6,
          7,
          8
         ],
         "y": [
          0.8198611731543186,
          0.8387165485599651,
          0.8502410199117127,
          0.8565588414406692,
          0.8607220615469457,
          0.8607220615469457,
          0.8617215971873545,
          0.8618449274488971,
          0.8614463837102323
         ]
        },
        {
         "legendgroup": "Piecewise linear",
         "line": {
          "color": "rgb(93, 105, 177)"
         },
         "mode": "lines",
         "name": "Piecewise linear: &mu;",
         "showlegend": false,
         "type": "scatter",
         "x": [
          0,
          1,
          2,
          3,
          4,
          5,
          6,
          7,
          8
         ],
         "y": [
          0.8457963249246028,
          0.8554659820847903,
          0.8651800194475181,
          0.8691401058827924,
          0.8717883524483059,
          0.8717883524483059,
          0.8737287425828271,
          0.8737889950251521,
          0.8725829061598324
         ]
        },
        {
         "legendgroup": "Piecewise linear",
         "line": {
          "color": "rgb(93, 105, 177)"
         },
         "mode": "lines",
         "name": "Piecewise linear",
         "showlegend": true,
         "type": "scatter",
         "x": [
          0
         ],
         "y": [
          0.8457963249246028
         ]
        },
        {
         "legendgroup": "Sum of Gaussians",
         "line": {
          "color": "rgba(82, 188, 163, 0.3)"
         },
         "mode": "lines",
         "name": "Sum of Gaussians: &mu; + 2&#963;",
         "showlegend": false,
         "type": "scatter",
         "x": [
          0,
          1,
          2,
          3,
          4,
          5,
          6,
          7,
          8,
          9
         ],
         "y": [
          0.8684367762938837,
          0.8697769875217418,
          0.8795829009261066,
          0.8731247418241525,
          0.8762182391842923,
          0.8832242889611026,
          0.8832943508640688,
          0.8832943508640688,
          0.8841760158323534,
          0.8801526288133098
         ]
        },
        {
         "fill": "tonexty",
         "fillcolor": "rgba(82, 188, 163, 0.3)",
         "legendgroup": "Sum of Gaussians",
         "line": {
          "color": "rgba(82, 188, 163, 0.3)"
         },
         "mode": "lines",
         "name": "Sum of Gaussians: &mu; - 2&#963",
         "showlegend": false,
         "type": "scatter",
         "x": [
          0,
          1,
          2,
          3,
          4,
          5,
          6,
          7,
          8,
          9
         ],
         "y": [
          0.8140494025275778,
          0.8175146255774912,
          0.8221592472631382,
          0.8375254753782965,
          0.8448268329092012,
          0.8477803319923851,
          0.8507630571798449,
          0.8507630571798449,
          0.8524317301330412,
          0.8588012201304102
         ]
        },
        {
         "legendgroup": "Sum of Gaussians",
         "line": {
          "color": "rgb(82, 188, 163)"
         },
         "mode": "lines",
         "name": "Sum of Gaussians: &mu;",
         "showlegend": false,
         "type": "scatter",
         "x": [
          0,
          1,
          2,
          3,
          4,
          5,
          6,
          7,
          8,
          9
         ],
         "y": [
          0.8412430894107308,
          0.8436458065496165,
          0.8508710740946224,
          0.8553251086012245,
          0.8605225360467468,
          0.8655023104767439,
          0.8670287040219569,
          0.8670287040219569,
          0.8683038729826973,
          0.86947692447186
         ]
        },
        {
         "legendgroup": "Sum of Gaussians",
         "line": {
          "color": "rgb(82, 188, 163)"
         },
         "mode": "lines",
         "name": "Sum of Gaussians",
         "showlegend": true,
         "type": "scatter",
         "x": [
          0
         ],
         "y": [
          0.8412430894107308
         ]
        }
       ],
       "layout": {
        "showlegend": true,
        "template": {
         "data": {
          "bar": [
           {
            "error_x": {
             "color": "rgb(36,36,36)"
            },
            "error_y": {
             "color": "rgb(36,36,36)"
            },
            "marker": {
             "line": {
              "color": "white",
              "width": 0.5
             },
             "pattern": {
              "fillmode": "overlay",
              "size": 10,
              "solidity": 0.2
             }
            },
            "type": "bar"
           }
          ],
          "barpolar": [
           {
            "marker": {
             "line": {
              "color": "white",
              "width": 0.5
             },
             "pattern": {
              "fillmode": "overlay",
              "size": 10,
              "solidity": 0.2
             }
            },
            "type": "barpolar"
           }
          ],
          "carpet": [
           {
            "aaxis": {
             "endlinecolor": "rgb(36,36,36)",
             "gridcolor": "white",
             "linecolor": "white",
             "minorgridcolor": "white",
             "startlinecolor": "rgb(36,36,36)"
            },
            "baxis": {
             "endlinecolor": "rgb(36,36,36)",
             "gridcolor": "white",
             "linecolor": "white",
             "minorgridcolor": "white",
             "startlinecolor": "rgb(36,36,36)"
            },
            "type": "carpet"
           }
          ],
          "choropleth": [
           {
            "colorbar": {
             "outlinewidth": 1,
             "tickcolor": "rgb(36,36,36)",
             "ticks": "outside"
            },
            "type": "choropleth"
           }
          ],
          "contour": [
           {
            "colorbar": {
             "outlinewidth": 1,
             "tickcolor": "rgb(36,36,36)",
             "ticks": "outside"
            },
            "colorscale": [
             [
              0,
              "#440154"
             ],
             [
              0.1111111111111111,
              "#482878"
             ],
             [
              0.2222222222222222,
              "#3e4989"
             ],
             [
              0.3333333333333333,
              "#31688e"
             ],
             [
              0.4444444444444444,
              "#26828e"
             ],
             [
              0.5555555555555556,
              "#1f9e89"
             ],
             [
              0.6666666666666666,
              "#35b779"
             ],
             [
              0.7777777777777778,
              "#6ece58"
             ],
             [
              0.8888888888888888,
              "#b5de2b"
             ],
             [
              1,
              "#fde725"
             ]
            ],
            "type": "contour"
           }
          ],
          "contourcarpet": [
           {
            "colorbar": {
             "outlinewidth": 1,
             "tickcolor": "rgb(36,36,36)",
             "ticks": "outside"
            },
            "type": "contourcarpet"
           }
          ],
          "heatmap": [
           {
            "colorbar": {
             "outlinewidth": 1,
             "tickcolor": "rgb(36,36,36)",
             "ticks": "outside"
            },
            "colorscale": [
             [
              0,
              "#440154"
             ],
             [
              0.1111111111111111,
              "#482878"
             ],
             [
              0.2222222222222222,
              "#3e4989"
             ],
             [
              0.3333333333333333,
              "#31688e"
             ],
             [
              0.4444444444444444,
              "#26828e"
             ],
             [
              0.5555555555555556,
              "#1f9e89"
             ],
             [
              0.6666666666666666,
              "#35b779"
             ],
             [
              0.7777777777777778,
              "#6ece58"
             ],
             [
              0.8888888888888888,
              "#b5de2b"
             ],
             [
              1,
              "#fde725"
             ]
            ],
            "type": "heatmap"
           }
          ],
          "heatmapgl": [
           {
            "colorbar": {
             "outlinewidth": 1,
             "tickcolor": "rgb(36,36,36)",
             "ticks": "outside"
            },
            "colorscale": [
             [
              0,
              "#440154"
             ],
             [
              0.1111111111111111,
              "#482878"
             ],
             [
              0.2222222222222222,
              "#3e4989"
             ],
             [
              0.3333333333333333,
              "#31688e"
             ],
             [
              0.4444444444444444,
              "#26828e"
             ],
             [
              0.5555555555555556,
              "#1f9e89"
             ],
             [
              0.6666666666666666,
              "#35b779"
             ],
             [
              0.7777777777777778,
              "#6ece58"
             ],
             [
              0.8888888888888888,
              "#b5de2b"
             ],
             [
              1,
              "#fde725"
             ]
            ],
            "type": "heatmapgl"
           }
          ],
          "histogram": [
           {
            "marker": {
             "line": {
              "color": "white",
              "width": 0.6
             }
            },
            "type": "histogram"
           }
          ],
          "histogram2d": [
           {
            "colorbar": {
             "outlinewidth": 1,
             "tickcolor": "rgb(36,36,36)",
             "ticks": "outside"
            },
            "colorscale": [
             [
              0,
              "#440154"
             ],
             [
              0.1111111111111111,
              "#482878"
             ],
             [
              0.2222222222222222,
              "#3e4989"
             ],
             [
              0.3333333333333333,
              "#31688e"
             ],
             [
              0.4444444444444444,
              "#26828e"
             ],
             [
              0.5555555555555556,
              "#1f9e89"
             ],
             [
              0.6666666666666666,
              "#35b779"
             ],
             [
              0.7777777777777778,
              "#6ece58"
             ],
             [
              0.8888888888888888,
              "#b5de2b"
             ],
             [
              1,
              "#fde725"
             ]
            ],
            "type": "histogram2d"
           }
          ],
          "histogram2dcontour": [
           {
            "colorbar": {
             "outlinewidth": 1,
             "tickcolor": "rgb(36,36,36)",
             "ticks": "outside"
            },
            "colorscale": [
             [
              0,
              "#440154"
             ],
             [
              0.1111111111111111,
              "#482878"
             ],
             [
              0.2222222222222222,
              "#3e4989"
             ],
             [
              0.3333333333333333,
              "#31688e"
             ],
             [
              0.4444444444444444,
              "#26828e"
             ],
             [
              0.5555555555555556,
              "#1f9e89"
             ],
             [
              0.6666666666666666,
              "#35b779"
             ],
             [
              0.7777777777777778,
              "#6ece58"
             ],
             [
              0.8888888888888888,
              "#b5de2b"
             ],
             [
              1,
              "#fde725"
             ]
            ],
            "type": "histogram2dcontour"
           }
          ],
          "mesh3d": [
           {
            "colorbar": {
             "outlinewidth": 1,
             "tickcolor": "rgb(36,36,36)",
             "ticks": "outside"
            },
            "type": "mesh3d"
           }
          ],
          "parcoords": [
           {
            "line": {
             "colorbar": {
              "outlinewidth": 1,
              "tickcolor": "rgb(36,36,36)",
              "ticks": "outside"
             }
            },
            "type": "parcoords"
           }
          ],
          "pie": [
           {
            "automargin": true,
            "type": "pie"
           }
          ],
          "scatter": [
           {
            "fillpattern": {
             "fillmode": "overlay",
             "size": 10,
             "solidity": 0.2
            },
            "type": "scatter"
           }
          ],
          "scatter3d": [
           {
            "line": {
             "colorbar": {
              "outlinewidth": 1,
              "tickcolor": "rgb(36,36,36)",
              "ticks": "outside"
             }
            },
            "marker": {
             "colorbar": {
              "outlinewidth": 1,
              "tickcolor": "rgb(36,36,36)",
              "ticks": "outside"
             }
            },
            "type": "scatter3d"
           }
          ],
          "scattercarpet": [
           {
            "marker": {
             "colorbar": {
              "outlinewidth": 1,
              "tickcolor": "rgb(36,36,36)",
              "ticks": "outside"
             }
            },
            "type": "scattercarpet"
           }
          ],
          "scattergeo": [
           {
            "marker": {
             "colorbar": {
              "outlinewidth": 1,
              "tickcolor": "rgb(36,36,36)",
              "ticks": "outside"
             }
            },
            "type": "scattergeo"
           }
          ],
          "scattergl": [
           {
            "marker": {
             "colorbar": {
              "outlinewidth": 1,
              "tickcolor": "rgb(36,36,36)",
              "ticks": "outside"
             }
            },
            "type": "scattergl"
           }
          ],
          "scattermapbox": [
           {
            "marker": {
             "colorbar": {
              "outlinewidth": 1,
              "tickcolor": "rgb(36,36,36)",
              "ticks": "outside"
             }
            },
            "type": "scattermapbox"
           }
          ],
          "scatterpolar": [
           {
            "marker": {
             "colorbar": {
              "outlinewidth": 1,
              "tickcolor": "rgb(36,36,36)",
              "ticks": "outside"
             }
            },
            "type": "scatterpolar"
           }
          ],
          "scatterpolargl": [
           {
            "marker": {
             "colorbar": {
              "outlinewidth": 1,
              "tickcolor": "rgb(36,36,36)",
              "ticks": "outside"
             }
            },
            "type": "scatterpolargl"
           }
          ],
          "scatterternary": [
           {
            "marker": {
             "colorbar": {
              "outlinewidth": 1,
              "tickcolor": "rgb(36,36,36)",
              "ticks": "outside"
             }
            },
            "type": "scatterternary"
           }
          ],
          "surface": [
           {
            "colorbar": {
             "outlinewidth": 1,
             "tickcolor": "rgb(36,36,36)",
             "ticks": "outside"
            },
            "colorscale": [
             [
              0,
              "#440154"
             ],
             [
              0.1111111111111111,
              "#482878"
             ],
             [
              0.2222222222222222,
              "#3e4989"
             ],
             [
              0.3333333333333333,
              "#31688e"
             ],
             [
              0.4444444444444444,
              "#26828e"
             ],
             [
              0.5555555555555556,
              "#1f9e89"
             ],
             [
              0.6666666666666666,
              "#35b779"
             ],
             [
              0.7777777777777778,
              "#6ece58"
             ],
             [
              0.8888888888888888,
              "#b5de2b"
             ],
             [
              1,
              "#fde725"
             ]
            ],
            "type": "surface"
           }
          ],
          "table": [
           {
            "cells": {
             "fill": {
              "color": "rgb(237,237,237)"
             },
             "line": {
              "color": "white"
             }
            },
            "header": {
             "fill": {
              "color": "rgb(217,217,217)"
             },
             "line": {
              "color": "white"
             }
            },
            "type": "table"
           }
          ]
         },
         "layout": {
          "annotationdefaults": {
           "arrowhead": 0,
           "arrowwidth": 1
          },
          "autotypenumbers": "strict",
          "coloraxis": {
           "colorbar": {
            "outlinewidth": 1,
            "tickcolor": "rgb(36,36,36)",
            "ticks": "outside"
           }
          },
          "colorscale": {
           "diverging": [
            [
             0,
             "rgb(103,0,31)"
            ],
            [
             0.1,
             "rgb(178,24,43)"
            ],
            [
             0.2,
             "rgb(214,96,77)"
            ],
            [
             0.3,
             "rgb(244,165,130)"
            ],
            [
             0.4,
             "rgb(253,219,199)"
            ],
            [
             0.5,
             "rgb(247,247,247)"
            ],
            [
             0.6,
             "rgb(209,229,240)"
            ],
            [
             0.7,
             "rgb(146,197,222)"
            ],
            [
             0.8,
             "rgb(67,147,195)"
            ],
            [
             0.9,
             "rgb(33,102,172)"
            ],
            [
             1,
             "rgb(5,48,97)"
            ]
           ],
           "sequential": [
            [
             0,
             "#440154"
            ],
            [
             0.1111111111111111,
             "#482878"
            ],
            [
             0.2222222222222222,
             "#3e4989"
            ],
            [
             0.3333333333333333,
             "#31688e"
            ],
            [
             0.4444444444444444,
             "#26828e"
            ],
            [
             0.5555555555555556,
             "#1f9e89"
            ],
            [
             0.6666666666666666,
             "#35b779"
            ],
            [
             0.7777777777777778,
             "#6ece58"
            ],
            [
             0.8888888888888888,
             "#b5de2b"
            ],
            [
             1,
             "#fde725"
            ]
           ],
           "sequentialminus": [
            [
             0,
             "#440154"
            ],
            [
             0.1111111111111111,
             "#482878"
            ],
            [
             0.2222222222222222,
             "#3e4989"
            ],
            [
             0.3333333333333333,
             "#31688e"
            ],
            [
             0.4444444444444444,
             "#26828e"
            ],
            [
             0.5555555555555556,
             "#1f9e89"
            ],
            [
             0.6666666666666666,
             "#35b779"
            ],
            [
             0.7777777777777778,
             "#6ece58"
            ],
            [
             0.8888888888888888,
             "#b5de2b"
            ],
            [
             1,
             "#fde725"
            ]
           ]
          },
          "colorway": [
           "#1F77B4",
           "#FF7F0E",
           "#2CA02C",
           "#D62728",
           "#9467BD",
           "#8C564B",
           "#E377C2",
           "#7F7F7F",
           "#BCBD22",
           "#17BECF"
          ],
          "font": {
           "color": "rgb(36,36,36)"
          },
          "geo": {
           "bgcolor": "white",
           "lakecolor": "white",
           "landcolor": "white",
           "showlakes": true,
           "showland": true,
           "subunitcolor": "white"
          },
          "hoverlabel": {
           "align": "left"
          },
          "hovermode": "closest",
          "mapbox": {
           "style": "light"
          },
          "paper_bgcolor": "white",
          "plot_bgcolor": "white",
          "polar": {
           "angularaxis": {
            "gridcolor": "rgb(232,232,232)",
            "linecolor": "rgb(36,36,36)",
            "showgrid": false,
            "showline": true,
            "ticks": "outside"
           },
           "bgcolor": "white",
           "radialaxis": {
            "gridcolor": "rgb(232,232,232)",
            "linecolor": "rgb(36,36,36)",
            "showgrid": false,
            "showline": true,
            "ticks": "outside"
           }
          },
          "scene": {
           "xaxis": {
            "backgroundcolor": "white",
            "gridcolor": "rgb(232,232,232)",
            "gridwidth": 2,
            "linecolor": "rgb(36,36,36)",
            "showbackground": true,
            "showgrid": false,
            "showline": true,
            "ticks": "outside",
            "zeroline": false,
            "zerolinecolor": "rgb(36,36,36)"
           },
           "yaxis": {
            "backgroundcolor": "white",
            "gridcolor": "rgb(232,232,232)",
            "gridwidth": 2,
            "linecolor": "rgb(36,36,36)",
            "showbackground": true,
            "showgrid": false,
            "showline": true,
            "ticks": "outside",
            "zeroline": false,
            "zerolinecolor": "rgb(36,36,36)"
           },
           "zaxis": {
            "backgroundcolor": "white",
            "gridcolor": "rgb(232,232,232)",
            "gridwidth": 2,
            "linecolor": "rgb(36,36,36)",
            "showbackground": true,
            "showgrid": false,
            "showline": true,
            "ticks": "outside",
            "zeroline": false,
            "zerolinecolor": "rgb(36,36,36)"
           }
          },
          "shapedefaults": {
           "fillcolor": "black",
           "line": {
            "width": 0
           },
           "opacity": 0.3
          },
          "ternary": {
           "aaxis": {
            "gridcolor": "rgb(232,232,232)",
            "linecolor": "rgb(36,36,36)",
            "showgrid": false,
            "showline": true,
            "ticks": "outside"
           },
           "baxis": {
            "gridcolor": "rgb(232,232,232)",
            "linecolor": "rgb(36,36,36)",
            "showgrid": false,
            "showline": true,
            "ticks": "outside"
           },
           "bgcolor": "white",
           "caxis": {
            "gridcolor": "rgb(232,232,232)",
            "linecolor": "rgb(36,36,36)",
            "showgrid": false,
            "showline": true,
            "ticks": "outside"
           }
          },
          "title": {
           "x": 0.05
          },
          "xaxis": {
           "automargin": true,
           "gridcolor": "rgb(232,232,232)",
           "linecolor": "rgb(36,36,36)",
           "showgrid": false,
           "showline": true,
           "ticks": "outside",
           "title": {
            "standoff": 15
           },
           "zeroline": false,
           "zerolinecolor": "rgb(36,36,36)"
          },
          "yaxis": {
           "automargin": true,
           "gridcolor": "rgb(232,232,232)",
           "linecolor": "rgb(36,36,36)",
           "showgrid": false,
           "showline": true,
           "ticks": "outside",
           "title": {
            "standoff": 15
           },
           "zeroline": false,
           "zerolinecolor": "rgb(36,36,36)"
          }
         }
        },
        "xaxis": {
         "title": {
          "text": "Optimisation step"
         }
        },
        "yaxis": {
         "title": {
          "text": "Maximum objective value achieved"
         }
        }
       }
      },
      "text/html": [
       "<div>                            <div id=\"5de98c9b-abe4-49d5-a044-d65c55280cd5\" class=\"plotly-graph-div\" style=\"height:525px; width:100%;\"></div>            <script type=\"text/javascript\">                require([\"plotly\"], function(Plotly) {                    window.PLOTLYENV=window.PLOTLYENV || {};                                    if (document.getElementById(\"5de98c9b-abe4-49d5-a044-d65c55280cd5\")) {                    Plotly.newPlot(                        \"5de98c9b-abe4-49d5-a044-d65c55280cd5\",                        [{\"legendgroup\":\"Marsden's piecewise linear\",\"line\":{\"color\":\"rgba(229, 134, 6, 0.3)\"},\"mode\":\"lines\",\"name\":\"Marsden's piecewise linear: &mu; + 2&#963;\",\"showlegend\":false,\"x\":[0,1,2,3,4,5,6,7,8,9,10,11,12,13,14,15],\"y\":[0.9052964746209821,0.9203379530700855,0.9236938575178651,0.9282523268145555,0.9266728411035652,0.9228779511344946,0.9226790625690909,0.9242021364920168,0.9272918995890785,0.9277318552211096,0.9278082071273838,0.9266276443826069,0.9272258158480862,0.9268122216466249,0.9268122216466249,0.9268122216466249],\"type\":\"scatter\"},{\"fill\":\"tonexty\",\"fillcolor\":\"rgba(229, 134, 6, 0.3)\",\"legendgroup\":\"Marsden's piecewise linear\",\"line\":{\"color\":\"rgba(229, 134, 6, 0.3)\"},\"mode\":\"lines\",\"name\":\"Marsden's piecewise linear: &mu; - 2&#963\",\"showlegend\":false,\"x\":[0,1,2,3,4,5,6,7,8,9,10,11,12,13,14,15],\"y\":[0.8608810754412716,0.8775074191093086,0.8856138032323496,0.8868731445860882,0.8952237381071919,0.9075316556445502,0.9102577256473287,0.910860519216657,0.9104791600328904,0.911298044885622,0.9107451402318599,0.9129422517966852,0.914700401750316,0.9155104615182782,0.9155104615182782,0.9155104615182782],\"type\":\"scatter\"},{\"legendgroup\":\"Marsden's piecewise linear\",\"line\":{\"color\":\"rgb(229, 134, 6)\"},\"mode\":\"lines\",\"name\":\"Marsden's piecewise linear: &mu;\",\"showlegend\":false,\"x\":[0,1,2,3,4,5,6,7,8,9,10,11,12,13,14,15],\"y\":[0.8830887750311268,0.898922686089697,0.9046538303751074,0.9075627357003219,0.9109482896053785,0.9152048033895224,0.9164683941082098,0.9175313278543369,0.9188855298109845,0.9195149500533658,0.9192766736796218,0.9197849480896461,0.9209631087992011,0.9211613415824516,0.9211613415824516,0.9211613415824516],\"type\":\"scatter\"},{\"legendgroup\":\"Marsden's piecewise linear\",\"line\":{\"color\":\"rgb(229, 134, 6)\"},\"mode\":\"lines\",\"name\":\"Marsden's piecewise linear\",\"showlegend\":true,\"x\":[0],\"y\":[0.8830887750311268],\"type\":\"scatter\"},{\"legendgroup\":\"Piecewise linear\",\"line\":{\"color\":\"rgba(93, 105, 177, 0.3)\"},\"mode\":\"lines\",\"name\":\"Piecewise linear: &mu; + 2&#963;\",\"showlegend\":false,\"x\":[0,1,2,3,4,5,6,7,8],\"y\":[0.8717314766948869,0.8722154156096155,0.8801190189833235,0.8817213703249157,0.882854643349666,0.882854643349666,0.8857358879782996,0.885733062601407,0.8837194286094324],\"type\":\"scatter\"},{\"fill\":\"tonexty\",\"fillcolor\":\"rgba(93, 105, 177, 0.3)\",\"legendgroup\":\"Piecewise linear\",\"line\":{\"color\":\"rgba(93, 105, 177, 0.3)\"},\"mode\":\"lines\",\"name\":\"Piecewise linear: &mu; - 2&#963\",\"showlegend\":false,\"x\":[0,1,2,3,4,5,6,7,8],\"y\":[0.8198611731543186,0.8387165485599651,0.8502410199117127,0.8565588414406692,0.8607220615469457,0.8607220615469457,0.8617215971873545,0.8618449274488971,0.8614463837102323],\"type\":\"scatter\"},{\"legendgroup\":\"Piecewise linear\",\"line\":{\"color\":\"rgb(93, 105, 177)\"},\"mode\":\"lines\",\"name\":\"Piecewise linear: &mu;\",\"showlegend\":false,\"x\":[0,1,2,3,4,5,6,7,8],\"y\":[0.8457963249246028,0.8554659820847903,0.8651800194475181,0.8691401058827924,0.8717883524483059,0.8717883524483059,0.8737287425828271,0.8737889950251521,0.8725829061598324],\"type\":\"scatter\"},{\"legendgroup\":\"Piecewise linear\",\"line\":{\"color\":\"rgb(93, 105, 177)\"},\"mode\":\"lines\",\"name\":\"Piecewise linear\",\"showlegend\":true,\"x\":[0],\"y\":[0.8457963249246028],\"type\":\"scatter\"},{\"legendgroup\":\"Sum of Gaussians\",\"line\":{\"color\":\"rgba(82, 188, 163, 0.3)\"},\"mode\":\"lines\",\"name\":\"Sum of Gaussians: &mu; + 2&#963;\",\"showlegend\":false,\"x\":[0,1,2,3,4,5,6,7,8,9],\"y\":[0.8684367762938837,0.8697769875217418,0.8795829009261066,0.8731247418241525,0.8762182391842923,0.8832242889611026,0.8832943508640688,0.8832943508640688,0.8841760158323534,0.8801526288133098],\"type\":\"scatter\"},{\"fill\":\"tonexty\",\"fillcolor\":\"rgba(82, 188, 163, 0.3)\",\"legendgroup\":\"Sum of Gaussians\",\"line\":{\"color\":\"rgba(82, 188, 163, 0.3)\"},\"mode\":\"lines\",\"name\":\"Sum of Gaussians: &mu; - 2&#963\",\"showlegend\":false,\"x\":[0,1,2,3,4,5,6,7,8,9],\"y\":[0.8140494025275778,0.8175146255774912,0.8221592472631382,0.8375254753782965,0.8448268329092012,0.8477803319923851,0.8507630571798449,0.8507630571798449,0.8524317301330412,0.8588012201304102],\"type\":\"scatter\"},{\"legendgroup\":\"Sum of Gaussians\",\"line\":{\"color\":\"rgb(82, 188, 163)\"},\"mode\":\"lines\",\"name\":\"Sum of Gaussians: &mu;\",\"showlegend\":false,\"x\":[0,1,2,3,4,5,6,7,8,9],\"y\":[0.8412430894107308,0.8436458065496165,0.8508710740946224,0.8553251086012245,0.8605225360467468,0.8655023104767439,0.8670287040219569,0.8670287040219569,0.8683038729826973,0.86947692447186],\"type\":\"scatter\"},{\"legendgroup\":\"Sum of Gaussians\",\"line\":{\"color\":\"rgb(82, 188, 163)\"},\"mode\":\"lines\",\"name\":\"Sum of Gaussians\",\"showlegend\":true,\"x\":[0],\"y\":[0.8412430894107308],\"type\":\"scatter\"}],                        {\"template\":{\"data\":{\"barpolar\":[{\"marker\":{\"line\":{\"color\":\"white\",\"width\":0.5},\"pattern\":{\"fillmode\":\"overlay\",\"size\":10,\"solidity\":0.2}},\"type\":\"barpolar\"}],\"bar\":[{\"error_x\":{\"color\":\"rgb(36,36,36)\"},\"error_y\":{\"color\":\"rgb(36,36,36)\"},\"marker\":{\"line\":{\"color\":\"white\",\"width\":0.5},\"pattern\":{\"fillmode\":\"overlay\",\"size\":10,\"solidity\":0.2}},\"type\":\"bar\"}],\"carpet\":[{\"aaxis\":{\"endlinecolor\":\"rgb(36,36,36)\",\"gridcolor\":\"white\",\"linecolor\":\"white\",\"minorgridcolor\":\"white\",\"startlinecolor\":\"rgb(36,36,36)\"},\"baxis\":{\"endlinecolor\":\"rgb(36,36,36)\",\"gridcolor\":\"white\",\"linecolor\":\"white\",\"minorgridcolor\":\"white\",\"startlinecolor\":\"rgb(36,36,36)\"},\"type\":\"carpet\"}],\"choropleth\":[{\"colorbar\":{\"outlinewidth\":1,\"tickcolor\":\"rgb(36,36,36)\",\"ticks\":\"outside\"},\"type\":\"choropleth\"}],\"contourcarpet\":[{\"colorbar\":{\"outlinewidth\":1,\"tickcolor\":\"rgb(36,36,36)\",\"ticks\":\"outside\"},\"type\":\"contourcarpet\"}],\"contour\":[{\"colorbar\":{\"outlinewidth\":1,\"tickcolor\":\"rgb(36,36,36)\",\"ticks\":\"outside\"},\"colorscale\":[[0.0,\"#440154\"],[0.1111111111111111,\"#482878\"],[0.2222222222222222,\"#3e4989\"],[0.3333333333333333,\"#31688e\"],[0.4444444444444444,\"#26828e\"],[0.5555555555555556,\"#1f9e89\"],[0.6666666666666666,\"#35b779\"],[0.7777777777777778,\"#6ece58\"],[0.8888888888888888,\"#b5de2b\"],[1.0,\"#fde725\"]],\"type\":\"contour\"}],\"heatmapgl\":[{\"colorbar\":{\"outlinewidth\":1,\"tickcolor\":\"rgb(36,36,36)\",\"ticks\":\"outside\"},\"colorscale\":[[0.0,\"#440154\"],[0.1111111111111111,\"#482878\"],[0.2222222222222222,\"#3e4989\"],[0.3333333333333333,\"#31688e\"],[0.4444444444444444,\"#26828e\"],[0.5555555555555556,\"#1f9e89\"],[0.6666666666666666,\"#35b779\"],[0.7777777777777778,\"#6ece58\"],[0.8888888888888888,\"#b5de2b\"],[1.0,\"#fde725\"]],\"type\":\"heatmapgl\"}],\"heatmap\":[{\"colorbar\":{\"outlinewidth\":1,\"tickcolor\":\"rgb(36,36,36)\",\"ticks\":\"outside\"},\"colorscale\":[[0.0,\"#440154\"],[0.1111111111111111,\"#482878\"],[0.2222222222222222,\"#3e4989\"],[0.3333333333333333,\"#31688e\"],[0.4444444444444444,\"#26828e\"],[0.5555555555555556,\"#1f9e89\"],[0.6666666666666666,\"#35b779\"],[0.7777777777777778,\"#6ece58\"],[0.8888888888888888,\"#b5de2b\"],[1.0,\"#fde725\"]],\"type\":\"heatmap\"}],\"histogram2dcontour\":[{\"colorbar\":{\"outlinewidth\":1,\"tickcolor\":\"rgb(36,36,36)\",\"ticks\":\"outside\"},\"colorscale\":[[0.0,\"#440154\"],[0.1111111111111111,\"#482878\"],[0.2222222222222222,\"#3e4989\"],[0.3333333333333333,\"#31688e\"],[0.4444444444444444,\"#26828e\"],[0.5555555555555556,\"#1f9e89\"],[0.6666666666666666,\"#35b779\"],[0.7777777777777778,\"#6ece58\"],[0.8888888888888888,\"#b5de2b\"],[1.0,\"#fde725\"]],\"type\":\"histogram2dcontour\"}],\"histogram2d\":[{\"colorbar\":{\"outlinewidth\":1,\"tickcolor\":\"rgb(36,36,36)\",\"ticks\":\"outside\"},\"colorscale\":[[0.0,\"#440154\"],[0.1111111111111111,\"#482878\"],[0.2222222222222222,\"#3e4989\"],[0.3333333333333333,\"#31688e\"],[0.4444444444444444,\"#26828e\"],[0.5555555555555556,\"#1f9e89\"],[0.6666666666666666,\"#35b779\"],[0.7777777777777778,\"#6ece58\"],[0.8888888888888888,\"#b5de2b\"],[1.0,\"#fde725\"]],\"type\":\"histogram2d\"}],\"histogram\":[{\"marker\":{\"line\":{\"color\":\"white\",\"width\":0.6}},\"type\":\"histogram\"}],\"mesh3d\":[{\"colorbar\":{\"outlinewidth\":1,\"tickcolor\":\"rgb(36,36,36)\",\"ticks\":\"outside\"},\"type\":\"mesh3d\"}],\"parcoords\":[{\"line\":{\"colorbar\":{\"outlinewidth\":1,\"tickcolor\":\"rgb(36,36,36)\",\"ticks\":\"outside\"}},\"type\":\"parcoords\"}],\"pie\":[{\"automargin\":true,\"type\":\"pie\"}],\"scatter3d\":[{\"line\":{\"colorbar\":{\"outlinewidth\":1,\"tickcolor\":\"rgb(36,36,36)\",\"ticks\":\"outside\"}},\"marker\":{\"colorbar\":{\"outlinewidth\":1,\"tickcolor\":\"rgb(36,36,36)\",\"ticks\":\"outside\"}},\"type\":\"scatter3d\"}],\"scattercarpet\":[{\"marker\":{\"colorbar\":{\"outlinewidth\":1,\"tickcolor\":\"rgb(36,36,36)\",\"ticks\":\"outside\"}},\"type\":\"scattercarpet\"}],\"scattergeo\":[{\"marker\":{\"colorbar\":{\"outlinewidth\":1,\"tickcolor\":\"rgb(36,36,36)\",\"ticks\":\"outside\"}},\"type\":\"scattergeo\"}],\"scattergl\":[{\"marker\":{\"colorbar\":{\"outlinewidth\":1,\"tickcolor\":\"rgb(36,36,36)\",\"ticks\":\"outside\"}},\"type\":\"scattergl\"}],\"scattermapbox\":[{\"marker\":{\"colorbar\":{\"outlinewidth\":1,\"tickcolor\":\"rgb(36,36,36)\",\"ticks\":\"outside\"}},\"type\":\"scattermapbox\"}],\"scatterpolargl\":[{\"marker\":{\"colorbar\":{\"outlinewidth\":1,\"tickcolor\":\"rgb(36,36,36)\",\"ticks\":\"outside\"}},\"type\":\"scatterpolargl\"}],\"scatterpolar\":[{\"marker\":{\"colorbar\":{\"outlinewidth\":1,\"tickcolor\":\"rgb(36,36,36)\",\"ticks\":\"outside\"}},\"type\":\"scatterpolar\"}],\"scatter\":[{\"fillpattern\":{\"fillmode\":\"overlay\",\"size\":10,\"solidity\":0.2},\"type\":\"scatter\"}],\"scatterternary\":[{\"marker\":{\"colorbar\":{\"outlinewidth\":1,\"tickcolor\":\"rgb(36,36,36)\",\"ticks\":\"outside\"}},\"type\":\"scatterternary\"}],\"surface\":[{\"colorbar\":{\"outlinewidth\":1,\"tickcolor\":\"rgb(36,36,36)\",\"ticks\":\"outside\"},\"colorscale\":[[0.0,\"#440154\"],[0.1111111111111111,\"#482878\"],[0.2222222222222222,\"#3e4989\"],[0.3333333333333333,\"#31688e\"],[0.4444444444444444,\"#26828e\"],[0.5555555555555556,\"#1f9e89\"],[0.6666666666666666,\"#35b779\"],[0.7777777777777778,\"#6ece58\"],[0.8888888888888888,\"#b5de2b\"],[1.0,\"#fde725\"]],\"type\":\"surface\"}],\"table\":[{\"cells\":{\"fill\":{\"color\":\"rgb(237,237,237)\"},\"line\":{\"color\":\"white\"}},\"header\":{\"fill\":{\"color\":\"rgb(217,217,217)\"},\"line\":{\"color\":\"white\"}},\"type\":\"table\"}]},\"layout\":{\"annotationdefaults\":{\"arrowhead\":0,\"arrowwidth\":1},\"autotypenumbers\":\"strict\",\"coloraxis\":{\"colorbar\":{\"outlinewidth\":1,\"tickcolor\":\"rgb(36,36,36)\",\"ticks\":\"outside\"}},\"colorscale\":{\"diverging\":[[0.0,\"rgb(103,0,31)\"],[0.1,\"rgb(178,24,43)\"],[0.2,\"rgb(214,96,77)\"],[0.3,\"rgb(244,165,130)\"],[0.4,\"rgb(253,219,199)\"],[0.5,\"rgb(247,247,247)\"],[0.6,\"rgb(209,229,240)\"],[0.7,\"rgb(146,197,222)\"],[0.8,\"rgb(67,147,195)\"],[0.9,\"rgb(33,102,172)\"],[1.0,\"rgb(5,48,97)\"]],\"sequential\":[[0.0,\"#440154\"],[0.1111111111111111,\"#482878\"],[0.2222222222222222,\"#3e4989\"],[0.3333333333333333,\"#31688e\"],[0.4444444444444444,\"#26828e\"],[0.5555555555555556,\"#1f9e89\"],[0.6666666666666666,\"#35b779\"],[0.7777777777777778,\"#6ece58\"],[0.8888888888888888,\"#b5de2b\"],[1.0,\"#fde725\"]],\"sequentialminus\":[[0.0,\"#440154\"],[0.1111111111111111,\"#482878\"],[0.2222222222222222,\"#3e4989\"],[0.3333333333333333,\"#31688e\"],[0.4444444444444444,\"#26828e\"],[0.5555555555555556,\"#1f9e89\"],[0.6666666666666666,\"#35b779\"],[0.7777777777777778,\"#6ece58\"],[0.8888888888888888,\"#b5de2b\"],[1.0,\"#fde725\"]]},\"colorway\":[\"#1F77B4\",\"#FF7F0E\",\"#2CA02C\",\"#D62728\",\"#9467BD\",\"#8C564B\",\"#E377C2\",\"#7F7F7F\",\"#BCBD22\",\"#17BECF\"],\"font\":{\"color\":\"rgb(36,36,36)\"},\"geo\":{\"bgcolor\":\"white\",\"lakecolor\":\"white\",\"landcolor\":\"white\",\"showlakes\":true,\"showland\":true,\"subunitcolor\":\"white\"},\"hoverlabel\":{\"align\":\"left\"},\"hovermode\":\"closest\",\"mapbox\":{\"style\":\"light\"},\"paper_bgcolor\":\"white\",\"plot_bgcolor\":\"white\",\"polar\":{\"angularaxis\":{\"gridcolor\":\"rgb(232,232,232)\",\"linecolor\":\"rgb(36,36,36)\",\"showgrid\":false,\"showline\":true,\"ticks\":\"outside\"},\"bgcolor\":\"white\",\"radialaxis\":{\"gridcolor\":\"rgb(232,232,232)\",\"linecolor\":\"rgb(36,36,36)\",\"showgrid\":false,\"showline\":true,\"ticks\":\"outside\"}},\"scene\":{\"xaxis\":{\"backgroundcolor\":\"white\",\"gridcolor\":\"rgb(232,232,232)\",\"gridwidth\":2,\"linecolor\":\"rgb(36,36,36)\",\"showbackground\":true,\"showgrid\":false,\"showline\":true,\"ticks\":\"outside\",\"zeroline\":false,\"zerolinecolor\":\"rgb(36,36,36)\"},\"yaxis\":{\"backgroundcolor\":\"white\",\"gridcolor\":\"rgb(232,232,232)\",\"gridwidth\":2,\"linecolor\":\"rgb(36,36,36)\",\"showbackground\":true,\"showgrid\":false,\"showline\":true,\"ticks\":\"outside\",\"zeroline\":false,\"zerolinecolor\":\"rgb(36,36,36)\"},\"zaxis\":{\"backgroundcolor\":\"white\",\"gridcolor\":\"rgb(232,232,232)\",\"gridwidth\":2,\"linecolor\":\"rgb(36,36,36)\",\"showbackground\":true,\"showgrid\":false,\"showline\":true,\"ticks\":\"outside\",\"zeroline\":false,\"zerolinecolor\":\"rgb(36,36,36)\"}},\"shapedefaults\":{\"fillcolor\":\"black\",\"line\":{\"width\":0},\"opacity\":0.3},\"ternary\":{\"aaxis\":{\"gridcolor\":\"rgb(232,232,232)\",\"linecolor\":\"rgb(36,36,36)\",\"showgrid\":false,\"showline\":true,\"ticks\":\"outside\"},\"baxis\":{\"gridcolor\":\"rgb(232,232,232)\",\"linecolor\":\"rgb(36,36,36)\",\"showgrid\":false,\"showline\":true,\"ticks\":\"outside\"},\"bgcolor\":\"white\",\"caxis\":{\"gridcolor\":\"rgb(232,232,232)\",\"linecolor\":\"rgb(36,36,36)\",\"showgrid\":false,\"showline\":true,\"ticks\":\"outside\"}},\"title\":{\"x\":0.05},\"xaxis\":{\"automargin\":true,\"gridcolor\":\"rgb(232,232,232)\",\"linecolor\":\"rgb(36,36,36)\",\"showgrid\":false,\"showline\":true,\"ticks\":\"outside\",\"title\":{\"standoff\":15},\"zeroline\":false,\"zerolinecolor\":\"rgb(36,36,36)\"},\"yaxis\":{\"automargin\":true,\"gridcolor\":\"rgb(232,232,232)\",\"linecolor\":\"rgb(36,36,36)\",\"showgrid\":false,\"showline\":true,\"ticks\":\"outside\",\"title\":{\"standoff\":15},\"zeroline\":false,\"zerolinecolor\":\"rgb(36,36,36)\"}}},\"showlegend\":true,\"xaxis\":{\"title\":{\"text\":\"Optimisation step\"}},\"yaxis\":{\"title\":{\"text\":\"Maximum objective value achieved\"}}},                        {\"responsive\": true}                    ).then(function(){\n",
       "                            \n",
       "var gd = document.getElementById('5de98c9b-abe4-49d5-a044-d65c55280cd5');\n",
       "var x = new MutationObserver(function (mutations, observer) {{\n",
       "        var display = window.getComputedStyle(gd).display;\n",
       "        if (!display || display === 'none') {{\n",
       "            console.log([gd, 'removed!']);\n",
       "            Plotly.purge(gd);\n",
       "            observer.disconnect();\n",
       "        }}\n",
       "}});\n",
       "\n",
       "// Listen for the removal of the full notebook cells\n",
       "var notebookContainer = gd.closest('#notebook-container');\n",
       "if (notebookContainer) {{\n",
       "    x.observe(notebookContainer, {childList: true});\n",
       "}}\n",
       "\n",
       "// Listen for the clearing of the current output cell\n",
       "var outputEl = gd.closest('.output');\n",
       "if (outputEl) {{\n",
       "    x.observe(outputEl, {childList: true});\n",
       "}}\n",
       "\n",
       "                        })                };                });            </script>        </div>"
      ]
     },
     "metadata": {},
     "output_type": "display_data"
    }
   ],
   "source": [
    "import h5py\n",
    "import plotly.graph_objects as go\n",
    "import numpy as np \n",
    "from jetto_mobo.utils import pad_1d, rgb_to_rgba\n",
    "import plotly\n",
    "\n",
    "figure = go.Figure()\n",
    "\n",
    "def add_trace(ensemble_dir, colour, name):\n",
    "    max_values = []\n",
    "\n",
    "    for ensemble_member in range(10):\n",
    "        hdf5_file = f\"{ensemble_dir}/{ensemble_member}/bayesopt.hdf5\"\n",
    "        with h5py.File(hdf5_file) as h5:\n",
    "            optimisation_step = np.arange(h5[\"/\"].attrs[\"n_completed_bayesopt_steps\"] + 1)\n",
    "            max_value = np.zeros(len(optimisation_step))\n",
    "            for i, step in enumerate(optimisation_step):\n",
    "                if i == 0:\n",
    "                    max_value[:] = np.max(np.nan_to_num(h5[\"initialisation/value\"], 0))\n",
    "                else:\n",
    "                    value = np.max(np.nan_to_num(h5[f\"bayesopt/{step}/value\"], 0))\n",
    "                    if value > max_value[i-1]:\n",
    "                        max_value[i:] = value\n",
    "        max_values.append(max_value)\n",
    "\n",
    "    max_values = pad_1d(max_values)\n",
    "    optimisation_step = np.arange(max_values.shape[1])\n",
    "    mean = np.nanmean(max_values, axis=0)\n",
    "    sd = np.nanstd(max_values, axis=0)\n",
    "    #max_ = np.nanmax(max_values, axis=0)\n",
    "    #min_ = np.nanmin(max_values, axis=0)\n",
    "\n",
    "    figure.add_traces(\n",
    "        [\n",
    "            go.Scatter(\n",
    "                x=optimisation_step,\n",
    "                y=mean + 2*sd,\n",
    "                name=f'{name}: &mu; + 2&#963;',\n",
    "                mode='lines',\n",
    "                line_color=rgb_to_rgba(colour, 0.3),\n",
    "                showlegend=False,\n",
    "                legendgroup=name,\n",
    "            ),\n",
    "            go.Scatter(\n",
    "                x=optimisation_step,\n",
    "                y=mean - 2*sd,\n",
    "                name=f'{name}: &mu; - 2&#963',\n",
    "                mode='lines',\n",
    "                fill='tonexty',\n",
    "                line_color=rgb_to_rgba(colour, 0.3),\n",
    "                fillcolor=rgb_to_rgba(colour, 0.3),\n",
    "                showlegend=False,\n",
    "                legendgroup=name,\n",
    "            ),\n",
    "            go.Scatter(\n",
    "                x=optimisation_step,\n",
    "                y=mean,\n",
    "                mode='lines',\n",
    "                name=f'{name}: &mu;',\n",
    "                line_color=colour,\n",
    "                showlegend=False,\n",
    "                legendgroup=name,\n",
    "            ),\n",
    "            go.Scatter(\n",
    "                x=[optimisation_step[0]],\n",
    "                y=[mean[0]],\n",
    "                mode='lines',\n",
    "                name=name,\n",
    "                line_color=colour,\n",
    "                showlegend=True,\n",
    "                legendgroup=name,\n",
    "            )\n",
    "        ]\n",
    "    )\n",
    "add_trace(\"../data/sobo/ga_pl_ensemble\", plotly.colors.qualitative.Vivid[0], \"Marsden's piecewise linear\")\n",
    "add_trace(\"../data/sobo/pl_ensemble\", plotly.colors.qualitative.Vivid[1], \"Piecewise linear\")\n",
    "add_trace(\"../data/sobo/sog_ensemble\", plotly.colors.qualitative.Vivid[2], \"Sum of Gaussians\")\n",
    "\n",
    "figure.update_layout(\n",
    "    template=\"simple_white\",\n",
    "    showlegend=True\n",
    ")\n",
    "figure.update_xaxes(title=\"Optimisation step\")\n",
    "figure.update_yaxes(title=\"Maximum objective value achieved\")"
   ]
  }
 ],
 "metadata": {
  "kernelspec": {
   "display_name": "jetto-mobo",
   "language": "python",
   "name": "python3"
  },
  "language_info": {
   "codemirror_mode": {
    "name": "ipython",
    "version": 3
   },
   "file_extension": ".py",
   "mimetype": "text/x-python",
   "name": "python",
   "nbconvert_exporter": "python",
   "pygments_lexer": "ipython3",
   "version": "3.10.4"
  },
  "orig_nbformat": 4
 },
 "nbformat": 4,
 "nbformat_minor": 2
}
