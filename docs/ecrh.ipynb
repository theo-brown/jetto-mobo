{
 "cells": [
  {
   "attachments": {},
   "cell_type": "markdown",
   "metadata": {},
   "source": [
    "Load the benchmark case:"
   ]
  },
  {
   "cell_type": "code",
   "execution_count": null,
   "metadata": {},
   "outputs": [],
   "source": [
    "import jetto_tools\n",
    "import plotly.graph_objects as go\n",
    "\n",
    "template = jetto_tools.template.from_directory(\"../jetto/templats/spr45-v9\")\n",
    "exfile = jetto_tools.binary.read_binary_file(template.extra_files[\"jetto.ex\"])\n",
    "\n",
    "# Normalise ECRH to [0, 1]\n",
    "benchmark_ecrh = exfile[\"QECE\"][0] / np.max(exfile[\"QECE\"][0])\n",
    "xrho = exfile[\"XRHO\"][0]\n",
    "\n",
    "figure = go.Figure()\n",
    "figure.add_trace(go.Scatter(x=xrho, y=benchmark_ecrh, name=\"SPR45-v9\"))"
   ]
  },
  {
   "attachments": {},
   "cell_type": "markdown",
   "metadata": {},
   "source": [
    "Load our ECRH functions:"
   ]
  },
  {
   "cell_type": "code",
   "execution_count": null,
   "metadata": {},
   "outputs": [],
   "source": [
    "from jetto_mobo.ecrh import (\n",
    "    piecewise_linear,\n",
    "    piecewise_linear_2,\n",
    "    sum_of_gaussians,\n",
    "    cubic_spline,\n",
    ")\n",
    "\n",
    "\n",
    "def sum_of_gaussians_2(x, *p):\n",
    "    return sum_of_gaussians(x, p[: len(p) // 2], [0.85] * len(p), p[len(p) // 2 :])"
   ]
  },
  {
   "attachments": {},
   "cell_type": "markdown",
   "metadata": {},
   "source": [
    "Fit to benchmark:"
   ]
  },
  {
   "cell_type": "code",
   "execution_count": null,
   "metadata": {},
   "outputs": [],
   "source": [
    "from scipy.optimize import curve_fit\n",
    "\n",
    "parameters = {}\n",
    "N_parameters = 12\n",
    "for f in [piecewise_linear, piecewise_linear_2, sum_of_gaussians, cubic_spline]:\n",
    "    p, _ = curve_fit(\n",
    "        f=f,\n",
    "        xdata=xrho,\n",
    "        ydata=benchmark_ecrh,\n",
    "        p0=[\n",
    "            *np.linspace(0, 0.5, N_parameters // 2),\n",
    "            *np.linspace(1, 0.1, N_parameters // 2),\n",
    "        ],\n",
    "        bounds=(0, 1),\n",
    "        max_nfev=1e4,\n",
    "    )\n",
    "    parameters[f] = p\n",
    "\n",
    "    figure.add_trace(\n",
    "        go.Scatter(\n",
    "            x=xrho,\n",
    "            y=f(xrho, p),\n",
    "            name=f.__name__,\n",
    "        )\n",
    "    )"
   ]
  }
 ],
 "metadata": {
  "language_info": {
   "name": "python"
  },
  "orig_nbformat": 4
 },
 "nbformat": 4,
 "nbformat_minor": 2
}
